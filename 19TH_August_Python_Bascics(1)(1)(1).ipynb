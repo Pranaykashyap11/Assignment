{
 "cells": [
  {
   "cell_type": "code",
   "execution_count": 6,
   "id": "d9626d4d-f1d1-40de-83db-d0e6209f3468",
   "metadata": {},
   "outputs": [
    {
     "name": "stdin",
     "output_type": "stream",
     "text": [
      " 20\n",
      " 10\n"
     ]
    }
   ],
   "source": [
    "\"\"\"Create a program that calculates the area of a rectangle. Take the\n",
    "length and width as inputs from the user and store them in variables.\n",
    "Calculate and display the area\"\"\"\n",
    "length=int(input())\n",
    "breadth=int(input())"
   ]
  },
  {
   "cell_type": "code",
   "execution_count": 7,
   "id": "2a8b6082-3b26-407a-ab02-eec9ac45b2d4",
   "metadata": {},
   "outputs": [],
   "source": [
    "#AOR is the area of rectangle\n",
    "AOR=length*breadth"
   ]
  },
  {
   "cell_type": "code",
   "execution_count": 8,
   "id": "44d8b142-ddc2-4b9a-a633-89937b1625a0",
   "metadata": {},
   "outputs": [
    {
     "name": "stdout",
     "output_type": "stream",
     "text": [
      "200\n"
     ]
    }
   ],
   "source": [
    "print(AOR)"
   ]
  },
  {
   "cell_type": "code",
   "execution_count": 9,
   "id": "91346f74-e439-4ad3-b176-5d601e37692d",
   "metadata": {},
   "outputs": [
    {
     "name": "stdin",
     "output_type": "stream",
     "text": [
      " 30.2\n"
     ]
    }
   ],
   "source": [
    "'''Write a Python program that converts temperature from Celsius to\n",
    "Fahrenheit. Take the temperature in Celsius as input, store it in a\n",
    "variable, convert it to Fahrenheit, and display the result'''\n",
    "#Formula for changing celsius to Fahrenheit= (temp in cel*1.8)+ 32\n",
    "tempcel=float(input())"
   ]
  },
  {
   "cell_type": "code",
   "execution_count": 10,
   "id": "add823a8-c9de-4e16-b028-108668115453",
   "metadata": {},
   "outputs": [],
   "source": [
    "tempfah=(tempcel*1.8)+32"
   ]
  },
  {
   "cell_type": "code",
   "execution_count": 11,
   "id": "9e170eff-d9df-413d-ba54-a3e1191c431b",
   "metadata": {},
   "outputs": [
    {
     "name": "stdout",
     "output_type": "stream",
     "text": [
      "86.36\n"
     ]
    }
   ],
   "source": [
    "print(tempfah)"
   ]
  },
  {
   "cell_type": "code",
   "execution_count": 29,
   "id": "0e28a8f4-e560-4bf1-9ac4-5a225e9dfddb",
   "metadata": {},
   "outputs": [
    {
     "data": {
      "text/plain": [
       "float"
      ]
     },
     "execution_count": 29,
     "metadata": {},
     "output_type": "execute_result"
    }
   ],
   "source": [
    "type(tempfah)"
   ]
  },
  {
   "cell_type": "code",
   "execution_count": 30,
   "id": "27b1424a-9e7f-4826-a894-fb0b65e751a3",
   "metadata": {},
   "outputs": [
    {
     "data": {
      "text/plain": [
       "6"
      ]
     },
     "execution_count": 30,
     "metadata": {},
     "output_type": "execute_result"
    }
   ],
   "source": [
    "#Write a Python program that takes a string as input and prints the length of the string.\n",
    "a=\"pranay\"\n",
    "len(a)"
   ]
  },
  {
   "cell_type": "code",
   "execution_count": 21,
   "id": "1fc124ef-94dd-4706-8937-d75ff0314a7f",
   "metadata": {},
   "outputs": [
    {
     "data": {
      "text/plain": [
       "'gnirts'"
      ]
     },
     "execution_count": 21,
     "metadata": {},
     "output_type": "execute_result"
    }
   ],
   "source": [
    "#Given a string, reverse the order of characters using string slicing and print the reversed string.\n",
    "b=\"string\"\n",
    "b[::-1]"
   ]
  },
  {
   "cell_type": "code",
   "execution_count": 1,
   "id": "229066a1-3eb9-43d2-b010-eac26d9d6755",
   "metadata": {},
   "outputs": [],
   "source": [
    "#Declare two variables, `x` and `y`, and assign them integer values.Swap the values of these variables without using any temporary variable.\n",
    "x=10\n",
    "y=20\n",
    "x,y=y,x"
   ]
  },
  {
   "cell_type": "code",
   "execution_count": 2,
   "id": "8b7188a0-ea55-4982-b342-b61d9210148f",
   "metadata": {},
   "outputs": [
    {
     "name": "stdout",
     "output_type": "stream",
     "text": [
      "20 10\n"
     ]
    }
   ],
   "source": [
    "print(x,y)"
   ]
  },
  {
   "cell_type": "code",
   "execution_count": 66,
   "id": "4ccc8a2c-a117-4b12-ab35-86a0e9ec0136",
   "metadata": {},
   "outputs": [
    {
     "data": {
      "text/plain": [
       "True"
      ]
     },
     "execution_count": 66,
     "metadata": {},
     "output_type": "execute_result"
    }
   ],
   "source": [
    "#Write a program that takes a string as input and checks if it is a palindrome (reads the same forwards and backwards).\n",
    "s = \"malayalam\"\n",
    "t=s[::-1]\n",
    "t==s"
   ]
  },
  {
   "cell_type": "code",
   "execution_count": 69,
   "id": "c2871ef0-c037-4a70-a86d-1bdb09453f2b",
   "metadata": {},
   "outputs": [
    {
     "data": {
      "text/plain": [
       "'pranay'"
      ]
     },
     "execution_count": 69,
     "metadata": {},
     "output_type": "execute_result"
    }
   ],
   "source": [
    "#Create a program that takes a string as input and removes all the spaces from it. Print the modified string without spaces.\n",
    "a1=\"   pranay  \"\n",
    "a1.strip()"
   ]
  },
  {
   "cell_type": "code",
   "execution_count": 7,
   "id": "e355a603-b94e-40df-b4bd-29b799c7ef33",
   "metadata": {},
   "outputs": [
    {
     "name": "stdin",
     "output_type": "stream",
     "text": [
      " i love my india\n"
     ]
    }
   ],
   "source": [
    "#Create a program that takes a sentence from the user and counts the number of vowels (a, e, i, o, u) in the string.\n",
    "string=input()"
   ]
  },
  {
   "cell_type": "code",
   "execution_count": 8,
   "id": "702790a8-562d-461e-a19f-612e939ef572",
   "metadata": {},
   "outputs": [
    {
     "name": "stdout",
     "output_type": "stream",
     "text": [
      "Number of vowels are:\n",
      "6\n"
     ]
    }
   ],
   "source": [
    "vowels=0\n",
    "for i in string:\n",
    "      if(i=='a' or i=='e' or i=='i' or i=='o' or i=='u' or i=='A' or i=='E' or i=='I' or i=='O' or i=='U'):\n",
    "            vowels=vowels+1\n",
    "print(\"Number of vowels are:\")\n",
    "print(vowels)"
   ]
  },
  {
   "cell_type": "code",
   "execution_count": null,
   "id": "8d60d1a4-8d44-4164-a906-26b3b6684103",
   "metadata": {},
   "outputs": [],
   "source": []
  }
 ],
 "metadata": {
  "kernelspec": {
   "display_name": "Python 3 (ipykernel)",
   "language": "python",
   "name": "python3"
  },
  "language_info": {
   "codemirror_mode": {
    "name": "ipython",
    "version": 3
   },
   "file_extension": ".py",
   "mimetype": "text/x-python",
   "name": "python",
   "nbconvert_exporter": "python",
   "pygments_lexer": "ipython3",
   "version": "3.10.8"
  }
 },
 "nbformat": 4,
 "nbformat_minor": 5
}
